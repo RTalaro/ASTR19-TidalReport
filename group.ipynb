{
 "cells": [
  {
   "cell_type": "code",
   "execution_count": 1,
   "id": "a488dec4-d383-4737-bedd-9a0ae776194c",
   "metadata": {},
   "outputs": [],
   "source": [
    "import matplotlib.pyplot as plt\n",
    "import numpy as np \n",
    "import pandas as pd\n",
    "import scipy"
   ]
  },
  {
   "cell_type": "code",
   "execution_count": 2,
   "id": "98848047",
   "metadata": {},
   "outputs": [],
   "source": [
    "with open('./ASTR19_S22_group_project_data.txt', 'r') as file:\n",
    "    data = file.read()"
   ]
  },
  {
   "cell_type": "code",
   "execution_count": 3,
   "id": "b9cbf6b5-e281-402d-a715-040b02327756",
   "metadata": {},
   "outputs": [],
   "source": [
    "def parse_tide_data(data):\n",
    "    rows = []\n",
    "    for line in data.split('\\n'):\n",
    "        parts = line.split()\n",
    "        if len(parts) == 3:\n",
    "            day, time, height = parts\n",
    "            rows.append({'Day': int(day), 'Time': time, 'Tide Height (feet)': float(height)})\n",
    "    return pd.DataFrame(rows)"
   ]
  },
  {
   "cell_type": "code",
   "execution_count": 4,
   "id": "6c6cf40d",
   "metadata": {},
   "outputs": [
    {
     "name": "stdout",
     "output_type": "stream",
     "text": [
      "0      8:07\n",
      "1     15:37\n",
      "2      8:55\n",
      "3     16:25\n",
      "4      9:45\n",
      "      ...  \n",
      "77    11:15\n",
      "78     4:29\n",
      "79    12:22\n",
      "80     5:21\n",
      "81    13:14\n",
      "Name: Time, Length: 82, dtype: object\n"
     ]
    }
   ],
   "source": [
    "df = parse_tide_data(data)\n",
    "print(df['Time'])"
   ]
  },
  {
   "cell_type": "code",
   "execution_count": 5,
   "id": "5445e815",
   "metadata": {},
   "outputs": [],
   "source": [
    "from scipy.optimize import curve_fit"
   ]
  },
  {
   "cell_type": "code",
   "execution_count": null,
   "id": "2f8a413d",
   "metadata": {},
   "outputs": [],
   "source": [
    "def oscillatory_function(x, a, b, c, d):\n",
    "    return a * np.sin(b * x + c) + d\n"
   ]
  }
 ],
 "metadata": {
  "kernelspec": {
   "display_name": "Python 3 (ipykernel)",
   "language": "python",
   "name": "python3"
  },
  "language_info": {
   "codemirror_mode": {
    "name": "ipython",
    "version": 3
   },
   "file_extension": ".py",
   "mimetype": "text/x-python",
   "name": "python",
   "nbconvert_exporter": "python",
   "pygments_lexer": "ipython3",
   "version": "3.10.10"
  }
 },
 "nbformat": 4,
 "nbformat_minor": 5
}
