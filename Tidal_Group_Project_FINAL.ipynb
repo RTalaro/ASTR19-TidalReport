{
 "cells": [
  {
   "cell_type": "code",
   "execution_count": null,
   "id": "00d93079",
   "metadata": {},
   "outputs": [],
   "source": [
    "import matplotlib.pyplot as plt\n",
    "import numpy as np \n",
    "import pandas as pd\n",
    "import scipy\n",
    "from scipy import optimize\n",
    "from scipy.optimize import curve_fit"
   ]
  },
  {
   "cell_type": "code",
   "execution_count": null,
   "id": "aa5fb406",
   "metadata": {},
   "outputs": [],
   "source": [
    "#Preparing the file\n",
    "with open(r\"C:\\Users\\eneto\\Documents\\GitHub\\ASTR19-TidalReport\\ASTR19_S22_group_project_data.txt\") as file:\n",
    "    data = file.read()\n",
    "    \n",
    "def parse_tide_data(data):\n",
    "    rows = []\n",
    "    for line in data.split('\\n'):\n",
    "        parts = line.split()\n",
    "        if len(parts) == 3:\n",
    "            day, time, height = parts\n",
    "            rows.append({'Day': int(day), 'Time': time, 'Tide Height (feet)': float(height)})\n",
    "            \n",
    "    return pd.DataFrame(rows)\n",
    "df = parse_tide_data(data)\n",
    "\n",
    "# converting time and hours to a decimal point\n",
    "def time_to_hours(t):\n",
    "    hours, minutes = map(int, t.split(':'))\n",
    "    return hours + minutes / 60\n",
    "df['Time (Hours)'] = df['Time'].apply(time_to_hours)\n",
    "# creating a standardized timestamp that can be plotted on the x-axis\n",
    "df['Timepoint'] = df['Day'] + df['Time (Hours)'] / 24"
   ]
  },
  {
   "cell_type": "code",
   "execution_count": null,
   "id": "482e35c4",
   "metadata": {},
   "outputs": [],
   "source": [
    "#We experimented with a 1-sine model, a 2-sine model, and a 3-sine model, and the 2-sine model gave up the best results.\n",
    "def oscillatory_function(x, a1, b1, c1, d1, a2, b2, c2, d2):\n",
    "    return a1*np.sin(b1*x+c1)+d1 + a2*np.sin(b2*x+c2)+d2\n",
    "\n",
    "parameters = [5, 0.5, 0, 0,   5, 2*np.pi, 1, 0]\n",
    "\n",
    "#Now fitting the curve to the data...with mixed success, unfortunately.\n",
    "params, params_cov = optimize.curve_fit(oscillatory_function, df['Timepoint'], df['Tide Height (feet)'],\n",
    "                      sigma=np.full(len(df), 0.25),p0=parameters)\n",
    "\n",
    "fit = oscillatory_function(df['Timepoint'], *params)"
   ]
  },
  {
   "cell_type": "code",
   "execution_count": null,
   "id": "38ee1f1d",
   "metadata": {},
   "outputs": [],
   "source": [
    "y_err=np.full(82,.25)\n",
    "plt.figure(figsize=(20, 5))\n",
    "plt.plot(df['Timepoint'], fit, label='Best Fit', color='red') \n",
    "plt.errorbar(df['Timepoint'], df['Tide Height (feet)'],yerr=y_err,fmt='o', label='Data', color='blue')\n",
    "\n",
    "plt.xlabel('Timepoint (Day + Time in Hours)')\n",
    "plt.ylabel('Tide Height (feet)')\n",
    "plt.title('Tide Height vs. Time')\n",
    "plt.legend()\n",
    "plt.savefig('data_and_fit.png',bbox_inches='tight',dpi=700)\n",
    "plt.show()"
   ]
  },
  {
   "cell_type": "markdown",
   "id": "22582ac5",
   "metadata": {},
   "source": [
    "I think that the data needed a third sine function, but no matter what parameters I used, I couldn't get it to behave. "
   ]
  },
  {
   "cell_type": "code",
   "execution_count": null,
   "id": "ed4e52f8",
   "metadata": {},
   "outputs": [],
   "source": [
    "sub = df['Tide Height (feet)']-fit\n",
    "plt.figure(figsize=(20,5))\n",
    "plt.scatter(df['Timepoint'],sub,label='Residuals',color=\"green\")\n",
    "plt.xlabel('Timepoint (Day + Time in Hours)')\n",
    "plt.ylabel('Tide Height (feet)')\n",
    "plt.yticks(ticks=(np.arange(-2,3,1)))\n",
    "plt.title('Tide Height vs. Time')\n",
    "plt.legend()\n",
    "plt.savefig('residuals.png',bbox_inches='tight',dpi=700)\n",
    "plt.show()"
   ]
  },
  {
   "cell_type": "code",
   "execution_count": null,
   "id": "df4af668",
   "metadata": {},
   "outputs": [],
   "source": [
    "plt.figure(figsize=(20,5))\n",
    "width=.1\n",
    "histmin=np.floor(min(sub))\n",
    "histmax=np.ceil(max(sub))+width\n",
    "bins=np.arange(histmin,histmax,width)\n",
    "plt.hist(sub,bins=bins,alpha=.5,edgecolor='black')\n",
    "plt.ylabel('# of Residuals')\n",
    "plt.xlabel('Deviation from fit in ft')\n",
    "plt.title('Residual deviation from the fit (w/o tsunami)')\n",
    "plt.xticks(ticks=(np.arange(-2,2.4,.1)))\n",
    "plt.savefig('hist_no_tsunami.png',bbox_inches='tight',dpi=700)\n",
    "plt.show()\n",
    "print(f'The standard deviation of the residuals is {np.std(sub)} ft, which is greater than the assumed experimental error, 0.25 ft.')"
   ]
  },
  {
   "cell_type": "code",
   "execution_count": null,
   "id": "85614892-57c8-4480-b273-1b42221c4e16",
   "metadata": {},
   "outputs": [],
   "source": [
    "df.iat[26,2] = 7.33\n",
    "sub = df['Tide Height (feet)']-fit\n",
    "stddev = np.std(sub)\n",
    "plt.figure(figsize=(20,5))\n",
    "width=.1\n",
    "histmin=np.floor(min(sub))\n",
    "histmax=np.ceil(max(sub))+width\n",
    "bins=np.arange(histmin,histmax,width)\n",
    "plt.hist(sub,bins=bins,alpha=.5,edgecolor='black')\n",
    "plt.ylabel('# of Residuals')\n",
    "plt.xlabel('Deviation from fit in ft')\n",
    "plt.title('Residual deviation from the fit (w/tsunami)')\n",
    "plt.xticks(ticks=(np.arange(-2,2.4,.1)))\n",
    "plt.savefig('hist_tsunami.png',bbox_inches='tight',dpi=700)\n",
    "plt.show()\n",
    "print(f'The standard deviation of the residuals is {stddev} ft, which is greater than the assumed experimental error, 0.25 ft.')\n",
    "print(f\"The significance of the outlier on the 14th day is {(2-2.48)/0.92} sigma.\")"
   ]
  },
  {
   "cell_type": "code",
   "execution_count": null,
   "id": "a93455f8-0302-4769-a43d-29d6e7771a6d",
   "metadata": {},
   "outputs": [],
   "source": []
  },
  {
   "cell_type": "code",
   "execution_count": null,
   "id": "467c6755",
   "metadata": {},
   "outputs": [],
   "source": []
  }
 ],
 "metadata": {
  "kernelspec": {
   "display_name": "Python 3 (ipykernel)",
   "language": "python",
   "name": "python3"
  },
  "language_info": {
   "codemirror_mode": {
    "name": "ipython",
    "version": 3
   },
   "file_extension": ".py",
   "mimetype": "text/x-python",
   "name": "python",
   "nbconvert_exporter": "python",
   "pygments_lexer": "ipython3",
   "version": "3.10.9"
  }
 },
 "nbformat": 4,
 "nbformat_minor": 5
}
